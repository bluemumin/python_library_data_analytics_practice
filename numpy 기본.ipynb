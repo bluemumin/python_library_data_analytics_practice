{
 "cells": [
  {
   "cell_type": "code",
   "execution_count": 1,
   "metadata": {
    "ExecuteTime": {
     "end_time": "2020-03-02T00:33:50.444615Z",
     "start_time": "2020-03-02T00:33:46.953875Z"
    }
   },
   "outputs": [],
   "source": [
    "import numpy as np"
   ]
  },
  {
   "cell_type": "code",
   "execution_count": 2,
   "metadata": {
    "ExecuteTime": {
     "end_time": "2020-03-02T00:34:13.642656Z",
     "start_time": "2020-03-02T00:34:13.602763Z"
    }
   },
   "outputs": [
    {
     "data": {
      "text/plain": [
       "array([[-0.44250101, -0.51433736,  1.1307932 ],\n",
       "       [-0.03026673,  0.35060961, -0.61372078]])"
      ]
     },
     "execution_count": 2,
     "metadata": {},
     "output_type": "execute_result"
    }
   ],
   "source": [
    "data = np.random.randn(2,3)\n",
    "data"
   ]
  },
  {
   "cell_type": "code",
   "execution_count": 4,
   "metadata": {
    "ExecuteTime": {
     "end_time": "2020-03-02T00:34:37.176082Z",
     "start_time": "2020-03-02T00:34:37.172116Z"
    }
   },
   "outputs": [
    {
     "data": {
      "text/plain": [
       "array([[-4.42501006, -5.1433736 , 11.30793205],\n",
       "       [-0.30266731,  3.50609613, -6.13720784]])"
      ]
     },
     "execution_count": 4,
     "metadata": {},
     "output_type": "execute_result"
    }
   ],
   "source": [
    "data * 10"
   ]
  },
  {
   "cell_type": "code",
   "execution_count": 5,
   "metadata": {
    "ExecuteTime": {
     "end_time": "2020-03-02T00:34:37.450302Z",
     "start_time": "2020-03-02T00:34:37.445315Z"
    }
   },
   "outputs": [
    {
     "data": {
      "text/plain": [
       "array([[-0.88500201, -1.02867472,  2.26158641],\n",
       "       [-0.06053346,  0.70121923, -1.22744157]])"
      ]
     },
     "execution_count": 5,
     "metadata": {},
     "output_type": "execute_result"
    }
   ],
   "source": [
    "data + data"
   ]
  },
  {
   "cell_type": "code",
   "execution_count": 7,
   "metadata": {
    "ExecuteTime": {
     "end_time": "2020-03-02T00:35:13.403406Z",
     "start_time": "2020-03-02T00:35:13.399416Z"
    }
   },
   "outputs": [
    {
     "data": {
      "text/plain": [
       "(2, 3)"
      ]
     },
     "execution_count": 7,
     "metadata": {},
     "output_type": "execute_result"
    }
   ],
   "source": [
    "data.shape"
   ]
  },
  {
   "cell_type": "code",
   "execution_count": 9,
   "metadata": {
    "ExecuteTime": {
     "end_time": "2020-03-02T00:35:16.974304Z",
     "start_time": "2020-03-02T00:35:16.970314Z"
    }
   },
   "outputs": [
    {
     "data": {
      "text/plain": [
       "dtype('float64')"
      ]
     },
     "execution_count": 9,
     "metadata": {},
     "output_type": "execute_result"
    }
   ],
   "source": [
    "data.dtype"
   ]
  },
  {
   "cell_type": "code",
   "execution_count": null,
   "metadata": {},
   "outputs": [],
   "source": []
  },
  {
   "cell_type": "code",
   "execution_count": 10,
   "metadata": {
    "ExecuteTime": {
     "end_time": "2020-03-02T00:35:55.173326Z",
     "start_time": "2020-03-02T00:35:55.168339Z"
    }
   },
   "outputs": [
    {
     "data": {
      "text/plain": [
       "array([1. , 2. , 3. , 4.5])"
      ]
     },
     "execution_count": 10,
     "metadata": {},
     "output_type": "execute_result"
    }
   ],
   "source": [
    "data1 = [1,2,3,4.5]\n",
    "arr1 = np.array(data1)\n",
    "arr1"
   ]
  },
  {
   "cell_type": "code",
   "execution_count": 14,
   "metadata": {
    "ExecuteTime": {
     "end_time": "2020-03-02T00:37:08.229325Z",
     "start_time": "2020-03-02T00:37:08.225335Z"
    }
   },
   "outputs": [
    {
     "data": {
      "text/plain": [
       "1"
      ]
     },
     "execution_count": 14,
     "metadata": {},
     "output_type": "execute_result"
    }
   ],
   "source": [
    "arr1.ndim "
   ]
  },
  {
   "cell_type": "code",
   "execution_count": 23,
   "metadata": {
    "ExecuteTime": {
     "end_time": "2020-03-02T00:50:48.140453Z",
     "start_time": "2020-03-02T00:50:48.133472Z"
    }
   },
   "outputs": [
    {
     "data": {
      "text/plain": [
       "array([[1. , 2. , 3. , 4.5],\n",
       "       [4. , 5. , 3. , 4.8]])"
      ]
     },
     "execution_count": 23,
     "metadata": {},
     "output_type": "execute_result"
    }
   ],
   "source": [
    "data2 = [ [1,2,3,4.5] ,[4,5,3,4.8] ]\n",
    "arr2 = np.array(data2)\n",
    "arr2"
   ]
  },
  {
   "cell_type": "code",
   "execution_count": 12,
   "metadata": {
    "ExecuteTime": {
     "end_time": "2020-03-02T00:36:50.568983Z",
     "start_time": "2020-03-02T00:36:50.563996Z"
    }
   },
   "outputs": [
    {
     "data": {
      "text/plain": [
       "2"
      ]
     },
     "execution_count": 12,
     "metadata": {},
     "output_type": "execute_result"
    }
   ],
   "source": [
    "arr2.ndim #2차원 형태"
   ]
  },
  {
   "cell_type": "code",
   "execution_count": 15,
   "metadata": {
    "ExecuteTime": {
     "end_time": "2020-03-02T00:37:22.347338Z",
     "start_time": "2020-03-02T00:37:22.343348Z"
    }
   },
   "outputs": [
    {
     "data": {
      "text/plain": [
       "(2, 4)"
      ]
     },
     "execution_count": 15,
     "metadata": {},
     "output_type": "execute_result"
    }
   ],
   "source": [
    "arr2.shape"
   ]
  },
  {
   "cell_type": "code",
   "execution_count": null,
   "metadata": {},
   "outputs": [],
   "source": []
  },
  {
   "cell_type": "code",
   "execution_count": 17,
   "metadata": {
    "ExecuteTime": {
     "end_time": "2020-03-02T00:39:10.732826Z",
     "start_time": "2020-03-02T00:39:10.727805Z"
    }
   },
   "outputs": [
    {
     "data": {
      "text/plain": [
       "array([[0., 0., 0., 0., 0., 0.],\n",
       "       [0., 0., 0., 0., 0., 0.],\n",
       "       [0., 0., 0., 0., 0., 0.]])"
      ]
     },
     "execution_count": 17,
     "metadata": {},
     "output_type": "execute_result"
    }
   ],
   "source": [
    "np.zeros((3,6))"
   ]
  },
  {
   "cell_type": "code",
   "execution_count": 18,
   "metadata": {
    "ExecuteTime": {
     "end_time": "2020-03-02T00:39:22.090043Z",
     "start_time": "2020-03-02T00:39:22.085057Z"
    }
   },
   "outputs": [
    {
     "data": {
      "text/plain": [
       "array([[[0., 0.],\n",
       "        [0., 0.],\n",
       "        [0., 0.]],\n",
       "\n",
       "       [[0., 0.],\n",
       "        [0., 0.],\n",
       "        [0., 0.]]])"
      ]
     },
     "execution_count": 18,
     "metadata": {},
     "output_type": "execute_result"
    }
   ],
   "source": [
    "np.zeros((2,3,2))"
   ]
  },
  {
   "cell_type": "code",
   "execution_count": 20,
   "metadata": {
    "ExecuteTime": {
     "end_time": "2020-03-02T00:50:04.745181Z",
     "start_time": "2020-03-02T00:50:04.740195Z"
    }
   },
   "outputs": [
    {
     "data": {
      "text/plain": [
       "array([ 0,  1,  2,  3,  4,  5,  6,  7,  8,  9, 10, 11, 12, 13, 14])"
      ]
     },
     "execution_count": 20,
     "metadata": {},
     "output_type": "execute_result"
    }
   ],
   "source": [
    "tk = np.arange(15)\n",
    "tk"
   ]
  },
  {
   "cell_type": "code",
   "execution_count": 21,
   "metadata": {
    "ExecuteTime": {
     "end_time": "2020-03-02T00:50:20.062303Z",
     "start_time": "2020-03-02T00:50:20.057327Z"
    }
   },
   "outputs": [
    {
     "data": {
      "text/plain": [
       "array([ 0.,  1.,  2.,  3.,  4.,  5.,  6.,  7.,  8.,  9., 10., 11., 12.,\n",
       "       13., 14.])"
      ]
     },
     "execution_count": 21,
     "metadata": {},
     "output_type": "execute_result"
    }
   ],
   "source": [
    "tk = tk.astype(np.float64)\n",
    "tk"
   ]
  },
  {
   "cell_type": "code",
   "execution_count": 24,
   "metadata": {
    "ExecuteTime": {
     "end_time": "2020-03-02T00:50:52.889833Z",
     "start_time": "2020-03-02T00:50:52.885844Z"
    }
   },
   "outputs": [
    {
     "data": {
      "text/plain": [
       "array([[1, 2, 3, 4],\n",
       "       [4, 5, 3, 4]])"
      ]
     },
     "execution_count": 24,
     "metadata": {},
     "output_type": "execute_result"
    }
   ],
   "source": [
    "arr2.astype(np.int32) #float를 int로 변환하면 자동으로 버림"
   ]
  },
  {
   "cell_type": "code",
   "execution_count": 26,
   "metadata": {
    "ExecuteTime": {
     "end_time": "2020-03-02T00:52:24.323388Z",
     "start_time": "2020-03-02T00:52:24.318400Z"
    }
   },
   "outputs": [
    {
     "data": {
      "text/plain": [
       "array([1.25, 1.4 ])"
      ]
     },
     "execution_count": 26,
     "metadata": {},
     "output_type": "execute_result"
    }
   ],
   "source": [
    "ns = np.array(['1.25','1.4'],dtype=np.string_)\n",
    "ns.astype(float)"
   ]
  },
  {
   "cell_type": "code",
   "execution_count": 27,
   "metadata": {
    "ExecuteTime": {
     "end_time": "2020-03-02T00:53:19.223685Z",
     "start_time": "2020-03-02T00:53:19.218698Z"
    }
   },
   "outputs": [
    {
     "data": {
      "text/plain": [
       "array([         0, 1072693248,          0, 1073741824,          0,\n",
       "       1074266112,          0, 1074921472], dtype=uint32)"
      ]
     },
     "execution_count": 27,
     "metadata": {},
     "output_type": "execute_result"
    }
   ],
   "source": [
    "eu = np.empty(8,dtype='u4')\n",
    "eu"
   ]
  },
  {
   "cell_type": "code",
   "execution_count": null,
   "metadata": {},
   "outputs": [],
   "source": []
  },
  {
   "cell_type": "code",
   "execution_count": 28,
   "metadata": {
    "ExecuteTime": {
     "end_time": "2020-03-02T00:54:46.427884Z",
     "start_time": "2020-03-02T00:54:46.423894Z"
    }
   },
   "outputs": [
    {
     "data": {
      "text/plain": [
       "array([[ 1,  4,  9],\n",
       "       [16, 25, 36]])"
      ]
     },
     "execution_count": 28,
     "metadata": {},
     "output_type": "execute_result"
    }
   ],
   "source": [
    "arr = np.array( [[1,2,3],[4,5,6]] )\n",
    "arr*arr"
   ]
  },
  {
   "cell_type": "code",
   "execution_count": 29,
   "metadata": {
    "ExecuteTime": {
     "end_time": "2020-03-02T00:54:53.522930Z",
     "start_time": "2020-03-02T00:54:53.515949Z"
    }
   },
   "outputs": [
    {
     "data": {
      "text/plain": [
       "array([[1.        , 0.5       , 0.33333333],\n",
       "       [0.25      , 0.2       , 0.16666667]])"
      ]
     },
     "execution_count": 29,
     "metadata": {},
     "output_type": "execute_result"
    }
   ],
   "source": [
    "1/arr"
   ]
  },
  {
   "cell_type": "code",
   "execution_count": 30,
   "metadata": {
    "ExecuteTime": {
     "end_time": "2020-03-02T00:55:43.586844Z",
     "start_time": "2020-03-02T00:55:43.581663Z"
    }
   },
   "outputs": [
    {
     "data": {
      "text/plain": [
       "array([[ True, False, False],\n",
       "       [ True,  True, False]])"
      ]
     },
     "execution_count": 30,
     "metadata": {},
     "output_type": "execute_result"
    }
   ],
   "source": [
    "arr22 = np.array( [[0.1,2,7],[3,2,6]] )\n",
    "\n",
    "arr > arr22"
   ]
  },
  {
   "cell_type": "code",
   "execution_count": null,
   "metadata": {},
   "outputs": [],
   "source": []
  },
  {
   "cell_type": "code",
   "execution_count": 34,
   "metadata": {
    "ExecuteTime": {
     "end_time": "2020-03-02T00:57:03.486149Z",
     "start_time": "2020-03-02T00:57:03.482160Z"
    }
   },
   "outputs": [
    {
     "data": {
      "text/plain": [
       "5"
      ]
     },
     "execution_count": 34,
     "metadata": {},
     "output_type": "execute_result"
    }
   ],
   "source": [
    "arr = np.arange(10)\n",
    "arr[5]"
   ]
  },
  {
   "cell_type": "code",
   "execution_count": 35,
   "metadata": {
    "ExecuteTime": {
     "end_time": "2020-03-02T00:57:03.663243Z",
     "start_time": "2020-03-02T00:57:03.659254Z"
    }
   },
   "outputs": [
    {
     "data": {
      "text/plain": [
       "array([5, 6, 7])"
      ]
     },
     "execution_count": 35,
     "metadata": {},
     "output_type": "execute_result"
    }
   ],
   "source": [
    "arr[5:8]"
   ]
  },
  {
   "cell_type": "code",
   "execution_count": 36,
   "metadata": {
    "ExecuteTime": {
     "end_time": "2020-03-02T00:57:04.133455Z",
     "start_time": "2020-03-02T00:57:04.128469Z"
    }
   },
   "outputs": [
    {
     "data": {
      "text/plain": [
       "array([ 0,  1,  2,  3,  4, 12, 12, 12,  8,  9])"
      ]
     },
     "execution_count": 36,
     "metadata": {},
     "output_type": "execute_result"
    }
   ],
   "source": [
    "arr[5:8] = 12\n",
    "arr"
   ]
  },
  {
   "cell_type": "code",
   "execution_count": 38,
   "metadata": {
    "ExecuteTime": {
     "end_time": "2020-03-02T00:57:45.179068Z",
     "start_time": "2020-03-02T00:57:45.175080Z"
    }
   },
   "outputs": [
    {
     "data": {
      "text/plain": [
       "array([12, 12, 12])"
      ]
     },
     "execution_count": 38,
     "metadata": {},
     "output_type": "execute_result"
    }
   ],
   "source": [
    "as1 = arr[5:8]\n",
    "as1"
   ]
  },
  {
   "cell_type": "code",
   "execution_count": 39,
   "metadata": {
    "ExecuteTime": {
     "end_time": "2020-03-02T00:58:00.674934Z",
     "start_time": "2020-03-02T00:58:00.670943Z"
    }
   },
   "outputs": [
    {
     "data": {
      "text/plain": [
       "array([    0,     1,     2,     3,     4,    12, 12345,    12,     8,\n",
       "           9])"
      ]
     },
     "execution_count": 39,
     "metadata": {},
     "output_type": "execute_result"
    }
   ],
   "source": [
    "as1[1] = 12345\n",
    "arr"
   ]
  },
  {
   "cell_type": "code",
   "execution_count": null,
   "metadata": {},
   "outputs": [],
   "source": []
  },
  {
   "cell_type": "code",
   "execution_count": 40,
   "metadata": {
    "ExecuteTime": {
     "end_time": "2020-03-02T01:00:03.119884Z",
     "start_time": "2020-03-02T01:00:03.114861Z"
    },
    "hide_input": false
   },
   "outputs": [
    {
     "data": {
      "text/plain": [
       "array([7, 8, 9])"
      ]
     },
     "execution_count": 40,
     "metadata": {},
     "output_type": "execute_result"
    }
   ],
   "source": [
    "arr2d = np.array( [[1,2,3],[4,5,6],[7,8,9]] )\n",
    "arr2d[2]"
   ]
  },
  {
   "cell_type": "code",
   "execution_count": 41,
   "metadata": {
    "ExecuteTime": {
     "end_time": "2020-03-02T01:00:16.440926Z",
     "start_time": "2020-03-02T01:00:16.436906Z"
    }
   },
   "outputs": [
    {
     "data": {
      "text/plain": [
       "3"
      ]
     },
     "execution_count": 41,
     "metadata": {},
     "output_type": "execute_result"
    }
   ],
   "source": [
    "arr2d[0][2]"
   ]
  },
  {
   "cell_type": "code",
   "execution_count": 42,
   "metadata": {
    "ExecuteTime": {
     "end_time": "2020-03-02T01:00:20.501355Z",
     "start_time": "2020-03-02T01:00:20.496369Z"
    }
   },
   "outputs": [
    {
     "data": {
      "text/plain": [
       "3"
      ]
     },
     "execution_count": 42,
     "metadata": {},
     "output_type": "execute_result"
    }
   ],
   "source": [
    "arr2d[0,2]"
   ]
  },
  {
   "cell_type": "code",
   "execution_count": 44,
   "metadata": {
    "ExecuteTime": {
     "end_time": "2020-03-02T01:02:02.538583Z",
     "start_time": "2020-03-02T01:02:02.534560Z"
    }
   },
   "outputs": [],
   "source": [
    "arr3d = np.array( [ [ [1,2,3],[4,5,6] ] , [ [7,8,9],[10,11,12] ] ] )"
   ]
  },
  {
   "cell_type": "code",
   "execution_count": 47,
   "metadata": {
    "ExecuteTime": {
     "end_time": "2020-03-02T01:02:17.814801Z",
     "start_time": "2020-03-02T01:02:17.809815Z"
    }
   },
   "outputs": [
    {
     "data": {
      "text/plain": [
       "(2, 2, 3)"
      ]
     },
     "execution_count": 47,
     "metadata": {},
     "output_type": "execute_result"
    }
   ],
   "source": [
    "arr3d.shape"
   ]
  },
  {
   "cell_type": "code",
   "execution_count": 48,
   "metadata": {
    "ExecuteTime": {
     "end_time": "2020-03-02T01:02:23.497438Z",
     "start_time": "2020-03-02T01:02:23.493447Z"
    }
   },
   "outputs": [
    {
     "data": {
      "text/plain": [
       "array([[1, 2, 3],\n",
       "       [4, 5, 6]])"
      ]
     },
     "execution_count": 48,
     "metadata": {},
     "output_type": "execute_result"
    }
   ],
   "source": [
    "arr3d[0]"
   ]
  },
  {
   "cell_type": "code",
   "execution_count": 49,
   "metadata": {
    "ExecuteTime": {
     "end_time": "2020-03-02T01:02:46.295401Z",
     "start_time": "2020-03-02T01:02:46.290415Z"
    }
   },
   "outputs": [
    {
     "data": {
      "text/plain": [
       "array([1, 2, 3])"
      ]
     },
     "execution_count": 49,
     "metadata": {},
     "output_type": "execute_result"
    }
   ],
   "source": [
    "arr3d[0,0]"
   ]
  },
  {
   "cell_type": "code",
   "execution_count": 50,
   "metadata": {
    "ExecuteTime": {
     "end_time": "2020-03-02T01:02:50.475738Z",
     "start_time": "2020-03-02T01:02:50.471747Z"
    }
   },
   "outputs": [
    {
     "data": {
      "text/plain": [
       "3"
      ]
     },
     "execution_count": 50,
     "metadata": {},
     "output_type": "execute_result"
    }
   ],
   "source": [
    "arr3d[0,0,2]"
   ]
  },
  {
   "cell_type": "code",
   "execution_count": 52,
   "metadata": {
    "ExecuteTime": {
     "end_time": "2020-03-02T01:06:23.009905Z",
     "start_time": "2020-03-02T01:06:23.005916Z"
    }
   },
   "outputs": [
    {
     "data": {
      "text/plain": [
       "array([ 1,  2,  3,  4, 12])"
      ]
     },
     "execution_count": 52,
     "metadata": {},
     "output_type": "execute_result"
    }
   ],
   "source": [
    "arr[1:6]"
   ]
  },
  {
   "cell_type": "code",
   "execution_count": 53,
   "metadata": {
    "ExecuteTime": {
     "end_time": "2020-03-02T01:06:28.727314Z",
     "start_time": "2020-03-02T01:06:28.722329Z"
    }
   },
   "outputs": [
    {
     "data": {
      "text/plain": [
       "array([[1, 2, 3],\n",
       "       [4, 5, 6]])"
      ]
     },
     "execution_count": 53,
     "metadata": {},
     "output_type": "execute_result"
    }
   ],
   "source": [
    "arr2d[:2]"
   ]
  },
  {
   "cell_type": "code",
   "execution_count": 55,
   "metadata": {
    "ExecuteTime": {
     "end_time": "2020-03-02T01:06:54.777654Z",
     "start_time": "2020-03-02T01:06:54.772666Z"
    }
   },
   "outputs": [
    {
     "data": {
      "text/plain": [
       "array([[2, 3],\n",
       "       [5, 6]])"
      ]
     },
     "execution_count": 55,
     "metadata": {},
     "output_type": "execute_result"
    }
   ],
   "source": [
    "arr2d[:2,1:]"
   ]
  },
  {
   "cell_type": "code",
   "execution_count": 56,
   "metadata": {
    "ExecuteTime": {
     "end_time": "2020-03-02T01:07:29.610506Z",
     "start_time": "2020-03-02T01:07:29.605519Z"
    }
   },
   "outputs": [
    {
     "data": {
      "text/plain": [
       "array([[1],\n",
       "       [4],\n",
       "       [7]])"
      ]
     },
     "execution_count": 56,
     "metadata": {},
     "output_type": "execute_result"
    }
   ],
   "source": [
    "arr2d[:, :1]"
   ]
  },
  {
   "cell_type": "code",
   "execution_count": null,
   "metadata": {},
   "outputs": [],
   "source": []
  },
  {
   "cell_type": "code",
   "execution_count": 57,
   "metadata": {
    "ExecuteTime": {
     "end_time": "2020-03-02T01:09:24.824110Z",
     "start_time": "2020-03-02T01:09:24.819124Z"
    }
   },
   "outputs": [
    {
     "data": {
      "text/plain": [
       "array(['Bob', 'Joe', 'Will', 'Bob', 'Joe', 'Will', 'Bob', 'Joe', 'Will'],\n",
       "      dtype='<U4')"
      ]
     },
     "execution_count": 57,
     "metadata": {},
     "output_type": "execute_result"
    }
   ],
   "source": [
    "names = np.array(['Bob','Joe','Will','Bob','Joe','Will','Bob','Joe','Will'])\n",
    "data = np.random.randn(9,4)\n",
    "\n",
    "names"
   ]
  },
  {
   "cell_type": "code",
   "execution_count": 59,
   "metadata": {
    "ExecuteTime": {
     "end_time": "2020-03-02T01:10:07.379468Z",
     "start_time": "2020-03-02T01:10:07.375478Z"
    }
   },
   "outputs": [
    {
     "data": {
      "text/plain": [
       "array([ True, False, False,  True, False, False,  True, False, False])"
      ]
     },
     "execution_count": 59,
     "metadata": {},
     "output_type": "execute_result"
    }
   ],
   "source": [
    "names == 'Bob'"
   ]
  },
  {
   "cell_type": "code",
   "execution_count": 62,
   "metadata": {
    "ExecuteTime": {
     "end_time": "2020-03-02T01:10:23.034196Z",
     "start_time": "2020-03-02T01:10:23.029209Z"
    }
   },
   "outputs": [
    {
     "data": {
      "text/plain": [
       "array([[-0.67428615,  1.0766917 ,  0.65870709,  0.21380771],\n",
       "       [-1.37143247, -0.10592336, -0.96267755, -0.1413787 ],\n",
       "       [ 0.22325217,  0.85195904,  0.62628674, -0.04851375]])"
      ]
     },
     "execution_count": 62,
     "metadata": {},
     "output_type": "execute_result"
    }
   ],
   "source": [
    "data[names == 'Bob']"
   ]
  },
  {
   "cell_type": "code",
   "execution_count": 63,
   "metadata": {
    "ExecuteTime": {
     "end_time": "2020-03-02T01:11:07.924212Z",
     "start_time": "2020-03-02T01:11:07.919224Z"
    }
   },
   "outputs": [
    {
     "data": {
      "text/plain": [
       "array([[ 0.65870709,  0.21380771],\n",
       "       [-0.96267755, -0.1413787 ],\n",
       "       [ 0.62628674, -0.04851375]])"
      ]
     },
     "execution_count": 63,
     "metadata": {},
     "output_type": "execute_result"
    }
   ],
   "source": [
    "data[names == 'Bob',2:]"
   ]
  },
  {
   "cell_type": "code",
   "execution_count": 64,
   "metadata": {
    "ExecuteTime": {
     "end_time": "2020-03-02T01:11:28.492167Z",
     "start_time": "2020-03-02T01:11:28.487181Z"
    }
   },
   "outputs": [
    {
     "data": {
      "text/plain": [
       "array([[ 1.45037132, -0.81569765, -0.92099176, -0.91499797],\n",
       "       [ 0.37112548,  0.61227637, -0.13740394, -1.3336581 ],\n",
       "       [-0.31466562, -0.28827956,  1.42722027, -0.03359818],\n",
       "       [-0.66236528, -1.39001961, -0.08576311,  0.58791169],\n",
       "       [ 0.37445381, -1.77849862,  1.70590394, -0.14271853],\n",
       "       [-0.9416072 , -0.06730615,  0.84669777,  0.59666726]])"
      ]
     },
     "execution_count": 64,
     "metadata": {},
     "output_type": "execute_result"
    }
   ],
   "source": [
    "data[names != 'Bob']"
   ]
  },
  {
   "cell_type": "code",
   "execution_count": 66,
   "metadata": {
    "ExecuteTime": {
     "end_time": "2020-03-02T01:12:02.279388Z",
     "start_time": "2020-03-02T01:12:02.274401Z"
    }
   },
   "outputs": [
    {
     "data": {
      "text/plain": [
       "array([[ 1.45037132, -0.81569765, -0.92099176, -0.91499797],\n",
       "       [ 0.37112548,  0.61227637, -0.13740394, -1.3336581 ],\n",
       "       [-0.31466562, -0.28827956,  1.42722027, -0.03359818],\n",
       "       [-0.66236528, -1.39001961, -0.08576311,  0.58791169],\n",
       "       [ 0.37445381, -1.77849862,  1.70590394, -0.14271853],\n",
       "       [-0.9416072 , -0.06730615,  0.84669777,  0.59666726]])"
      ]
     },
     "execution_count": 66,
     "metadata": {},
     "output_type": "execute_result"
    }
   ],
   "source": [
    "tk = names == 'Bob'\n",
    "data[~tk]"
   ]
  },
  {
   "cell_type": "code",
   "execution_count": null,
   "metadata": {},
   "outputs": [],
   "source": []
  },
  {
   "cell_type": "markdown",
   "metadata": {},
   "source": [
    "## 팬시 색인"
   ]
  },
  {
   "cell_type": "code",
   "execution_count": 70,
   "metadata": {
    "ExecuteTime": {
     "end_time": "2020-03-02T01:13:48.424071Z",
     "start_time": "2020-03-02T01:13:48.419084Z"
    }
   },
   "outputs": [
    {
     "data": {
      "text/plain": [
       "array([[0., 0., 0., 0.],\n",
       "       [1., 1., 1., 1.],\n",
       "       [2., 2., 2., 2.],\n",
       "       [3., 3., 3., 3.],\n",
       "       [4., 4., 4., 4.],\n",
       "       [5., 5., 5., 5.],\n",
       "       [6., 6., 6., 6.],\n",
       "       [7., 7., 7., 7.]])"
      ]
     },
     "execution_count": 70,
     "metadata": {},
     "output_type": "execute_result"
    }
   ],
   "source": [
    "arr = np.empty((8,4))\n",
    "\n",
    "for i in range(8):\n",
    "    arr[i] = i\n",
    "\n",
    "arr"
   ]
  },
  {
   "cell_type": "code",
   "execution_count": 71,
   "metadata": {
    "ExecuteTime": {
     "end_time": "2020-03-02T01:14:05.340153Z",
     "start_time": "2020-03-02T01:14:05.335168Z"
    }
   },
   "outputs": [
    {
     "data": {
      "text/plain": [
       "array([[4., 4., 4., 4.],\n",
       "       [3., 3., 3., 3.],\n",
       "       [2., 2., 2., 2.]])"
      ]
     },
     "execution_count": 71,
     "metadata": {},
     "output_type": "execute_result"
    }
   ],
   "source": [
    "arr[[4,3,2]]"
   ]
  },
  {
   "cell_type": "code",
   "execution_count": 72,
   "metadata": {
    "ExecuteTime": {
     "end_time": "2020-03-02T01:14:14.759128Z",
     "start_time": "2020-03-02T01:14:14.754142Z"
    }
   },
   "outputs": [
    {
     "data": {
      "text/plain": [
       "array([[4., 4., 4., 4.],\n",
       "       [5., 5., 5., 5.],\n",
       "       [6., 6., 6., 6.]])"
      ]
     },
     "execution_count": 72,
     "metadata": {},
     "output_type": "execute_result"
    }
   ],
   "source": [
    "arr[[-4,-3,-2]]"
   ]
  },
  {
   "cell_type": "code",
   "execution_count": 78,
   "metadata": {
    "ExecuteTime": {
     "end_time": "2020-03-02T01:15:55.281998Z",
     "start_time": "2020-03-02T01:15:55.278008Z"
    }
   },
   "outputs": [
    {
     "data": {
      "text/plain": [
       "array([[ 4,  5,  6,  7],\n",
       "       [ 8,  9, 10, 11],\n",
       "       [20, 21, 22, 23]])"
      ]
     },
     "execution_count": 78,
     "metadata": {},
     "output_type": "execute_result"
    }
   ],
   "source": [
    "arr2 = np.arange(32).reshape((8,4))\n",
    "\n",
    "arr2[[1,2,5]]"
   ]
  },
  {
   "cell_type": "code",
   "execution_count": 79,
   "metadata": {
    "ExecuteTime": {
     "end_time": "2020-03-02T01:15:55.517498Z",
     "start_time": "2020-03-02T01:15:55.513509Z"
    }
   },
   "outputs": [
    {
     "data": {
      "text/plain": [
       "array([ 4, 10, 23])"
      ]
     },
     "execution_count": 79,
     "metadata": {},
     "output_type": "execute_result"
    }
   ],
   "source": [
    "arr2[[1,2,5],[0,2,3]]"
   ]
  },
  {
   "cell_type": "code",
   "execution_count": 81,
   "metadata": {
    "ExecuteTime": {
     "end_time": "2020-03-02T01:17:05.871137Z",
     "start_time": "2020-03-02T01:17:05.867181Z"
    }
   },
   "outputs": [
    {
     "data": {
      "text/plain": [
       "array([[ 4,  6,  7],\n",
       "       [ 8, 10, 11],\n",
       "       [20, 22, 23]])"
      ]
     },
     "execution_count": 81,
     "metadata": {},
     "output_type": "execute_result"
    }
   ],
   "source": [
    "arr2[[1,2,5] ][:,[0,2,3] ]"
   ]
  },
  {
   "cell_type": "code",
   "execution_count": 82,
   "metadata": {
    "ExecuteTime": {
     "end_time": "2020-03-02T01:17:32.077566Z",
     "start_time": "2020-03-02T01:17:32.073577Z"
    }
   },
   "outputs": [
    {
     "data": {
      "text/plain": [
       "array([[ 0,  4,  8, 12, 16, 20, 24, 28],\n",
       "       [ 1,  5,  9, 13, 17, 21, 25, 29],\n",
       "       [ 2,  6, 10, 14, 18, 22, 26, 30],\n",
       "       [ 3,  7, 11, 15, 19, 23, 27, 31]])"
      ]
     },
     "execution_count": 82,
     "metadata": {},
     "output_type": "execute_result"
    }
   ],
   "source": [
    "arr2.T"
   ]
  },
  {
   "cell_type": "code",
   "execution_count": 83,
   "metadata": {
    "ExecuteTime": {
     "end_time": "2020-03-02T01:17:46.857068Z",
     "start_time": "2020-03-02T01:17:46.763316Z"
    }
   },
   "outputs": [
    {
     "data": {
      "text/plain": [
       "array([[560., 560., 560., 560.],\n",
       "       [588., 588., 588., 588.],\n",
       "       [616., 616., 616., 616.],\n",
       "       [644., 644., 644., 644.]])"
      ]
     },
     "execution_count": 83,
     "metadata": {},
     "output_type": "execute_result"
    }
   ],
   "source": [
    "np.dot(arr2.T,arr) #행렬 내적"
   ]
  },
  {
   "cell_type": "code",
   "execution_count": 91,
   "metadata": {
    "ExecuteTime": {
     "end_time": "2020-03-02T01:20:41.701217Z",
     "start_time": "2020-03-02T01:20:41.696230Z"
    }
   },
   "outputs": [
    {
     "data": {
      "text/plain": [
       "array([[[ 0,  1,  2,  3],\n",
       "        [ 4,  5,  6,  7]],\n",
       "\n",
       "       [[ 8,  9, 10, 11],\n",
       "        [12, 13, 14, 15]]])"
      ]
     },
     "execution_count": 91,
     "metadata": {},
     "output_type": "execute_result"
    }
   ],
   "source": [
    "arr22 = np.arange(16).reshape(2,2,4)\n",
    "arr22"
   ]
  },
  {
   "cell_type": "code",
   "execution_count": 92,
   "metadata": {
    "ExecuteTime": {
     "end_time": "2020-03-02T01:20:42.021012Z",
     "start_time": "2020-03-02T01:20:42.017988Z"
    }
   },
   "outputs": [
    {
     "data": {
      "text/plain": [
       "array([[[ 0,  1,  2,  3],\n",
       "        [ 8,  9, 10, 11]],\n",
       "\n",
       "       [[ 4,  5,  6,  7],\n",
       "        [12, 13, 14, 15]]])"
      ]
     },
     "execution_count": 92,
     "metadata": {},
     "output_type": "execute_result"
    }
   ],
   "source": [
    "arr22.transpose((1,0,2)) #첫 번째와 두 번째의 축 순서가 뒤 바뀜"
   ]
  },
  {
   "cell_type": "code",
   "execution_count": 93,
   "metadata": {
    "ExecuteTime": {
     "end_time": "2020-03-02T01:20:42.450603Z",
     "start_time": "2020-03-02T01:20:42.445594Z"
    }
   },
   "outputs": [
    {
     "data": {
      "text/plain": [
       "array([[[ 0,  4],\n",
       "        [ 1,  5],\n",
       "        [ 2,  6],\n",
       "        [ 3,  7]],\n",
       "\n",
       "       [[ 8, 12],\n",
       "        [ 9, 13],\n",
       "        [10, 14],\n",
       "        [11, 15]]])"
      ]
     },
     "execution_count": 93,
     "metadata": {},
     "output_type": "execute_result"
    }
   ],
   "source": [
    "arr22.swapaxes(1,2) #2개의 축 번호를 받아 배열을 뒤바꿈"
   ]
  },
  {
   "cell_type": "code",
   "execution_count": null,
   "metadata": {},
   "outputs": [],
   "source": []
  },
  {
   "cell_type": "markdown",
   "metadata": {},
   "source": [
    "# 유니버셜 함수 : 배열의 각 원소를 빠르게 처리하는 함수"
   ]
  },
  {
   "cell_type": "code",
   "execution_count": 94,
   "metadata": {
    "ExecuteTime": {
     "end_time": "2020-03-02T01:28:14.545473Z",
     "start_time": "2020-03-02T01:28:14.540490Z"
    }
   },
   "outputs": [
    {
     "data": {
      "text/plain": [
       "array([0.        , 1.        , 1.41421356, 1.73205081, 2.        ,\n",
       "       2.23606798, 2.44948974, 2.64575131, 2.82842712, 3.        ])"
      ]
     },
     "execution_count": 94,
     "metadata": {},
     "output_type": "execute_result"
    }
   ],
   "source": [
    "arr = np.arange(10)\n",
    "np.sqrt(arr)"
   ]
  },
  {
   "cell_type": "code",
   "execution_count": 95,
   "metadata": {
    "ExecuteTime": {
     "end_time": "2020-03-02T01:28:23.602073Z",
     "start_time": "2020-03-02T01:28:23.598064Z"
    }
   },
   "outputs": [
    {
     "data": {
      "text/plain": [
       "array([1.00000000e+00, 2.71828183e+00, 7.38905610e+00, 2.00855369e+01,\n",
       "       5.45981500e+01, 1.48413159e+02, 4.03428793e+02, 1.09663316e+03,\n",
       "       2.98095799e+03, 8.10308393e+03])"
      ]
     },
     "execution_count": 95,
     "metadata": {},
     "output_type": "execute_result"
    }
   ],
   "source": [
    "np.exp(arr)"
   ]
  },
  {
   "cell_type": "code",
   "execution_count": 97,
   "metadata": {
    "ExecuteTime": {
     "end_time": "2020-03-02T01:33:23.957787Z",
     "start_time": "2020-03-02T01:33:23.953765Z"
    }
   },
   "outputs": [
    {
     "data": {
      "text/plain": [
       "array([0.36831578, 0.73434322, 0.72376854, 0.87330568, 0.05504501,\n",
       "       0.27873374, 0.95518002, 0.58789752])"
      ]
     },
     "execution_count": 97,
     "metadata": {},
     "output_type": "execute_result"
    }
   ],
   "source": [
    "x = np.random.rand(8)\n",
    "y = np.random.rand(8)\n",
    "\n",
    "x"
   ]
  },
  {
   "cell_type": "code",
   "execution_count": 98,
   "metadata": {
    "ExecuteTime": {
     "end_time": "2020-03-02T01:33:24.266920Z",
     "start_time": "2020-03-02T01:33:24.262930Z"
    }
   },
   "outputs": [
    {
     "data": {
      "text/plain": [
       "array([0.43939349, 0.73434322, 0.72376854, 0.93531967, 0.5152265 ,\n",
       "       0.67353352, 0.95518002, 0.58789752])"
      ]
     },
     "execution_count": 98,
     "metadata": {},
     "output_type": "execute_result"
    }
   ],
   "source": [
    "np.maximum(x,y)"
   ]
  },
  {
   "cell_type": "code",
   "execution_count": null,
   "metadata": {},
   "outputs": [],
   "source": []
  },
  {
   "cell_type": "markdown",
   "metadata": {},
   "source": [
    "# 배열 지향 프로그래밍"
   ]
  },
  {
   "cell_type": "code",
   "execution_count": 100,
   "metadata": {
    "ExecuteTime": {
     "end_time": "2020-03-02T02:04:56.864626Z",
     "start_time": "2020-03-02T02:04:56.854629Z"
    }
   },
   "outputs": [],
   "source": [
    "points = np.arange(-5,5,0.01)\n",
    "\n",
    "xs, ys = np.meshgrid(points,points)"
   ]
  },
  {
   "cell_type": "code",
   "execution_count": 102,
   "metadata": {
    "ExecuteTime": {
     "end_time": "2020-03-02T02:05:07.108747Z",
     "start_time": "2020-03-02T02:05:07.103762Z"
    }
   },
   "outputs": [
    {
     "data": {
      "text/plain": [
       "((1000, 1000), (1000,))"
      ]
     },
     "execution_count": 102,
     "metadata": {},
     "output_type": "execute_result"
    }
   ],
   "source": [
    "xs.shape, points.shape"
   ]
  },
  {
   "cell_type": "code",
   "execution_count": 103,
   "metadata": {
    "ExecuteTime": {
     "end_time": "2020-03-02T02:05:38.649368Z",
     "start_time": "2020-03-02T02:05:38.626921Z"
    }
   },
   "outputs": [],
   "source": [
    "z = np.sqrt(xs ** 2 + ys ** 2)"
   ]
  },
  {
   "cell_type": "code",
   "execution_count": 104,
   "metadata": {
    "ExecuteTime": {
     "end_time": "2020-03-02T02:05:42.676003Z",
     "start_time": "2020-03-02T02:05:42.671441Z"
    }
   },
   "outputs": [
    {
     "data": {
      "text/plain": [
       "(1000, 1000)"
      ]
     },
     "execution_count": 104,
     "metadata": {},
     "output_type": "execute_result"
    }
   ],
   "source": [
    "z.shape"
   ]
  },
  {
   "cell_type": "code",
   "execution_count": 111,
   "metadata": {
    "ExecuteTime": {
     "end_time": "2020-03-02T02:07:52.024605Z",
     "start_time": "2020-03-02T02:07:51.581218Z"
    }
   },
   "outputs": [
    {
     "data": {
      "image/png": "[encoded data removed]",
      "text/plain": [
       "<Figure size 432x288 with 2 Axes>"
      ]
     },
     "metadata": {
      "needs_background": "light"
     },
     "output_type": "display_data"
    }
   ],
   "source": [
    "import matplotlib.pyplot as plt\n",
    "\n",
    "plt.imshow(z,cmap=plt.cm.gray)\n",
    "plt.colorbar()\n",
    "plt.title('image plot of $\\sqrt{x^2 + y^2}$ for a grid of values',size=15)\n",
    "plt.show;"
   ]
  },
  {
   "cell_type": "code",
   "execution_count": 116,
   "metadata": {
    "ExecuteTime": {
     "end_time": "2020-03-02T02:09:39.699350Z",
     "start_time": "2020-03-02T02:09:39.693365Z"
    }
   },
   "outputs": [
    {
     "data": {
      "text/plain": [
       "array([1.1, 2.2, 1.3, 1.4, 2.5])"
      ]
     },
     "execution_count": 116,
     "metadata": {},
     "output_type": "execute_result"
    }
   ],
   "source": [
    "x = np.arange(1.1,1.6,0.1)\n",
    "y = np.arange(2.1,2.6,0.1)\n",
    "cond = np.array([True,False,True,True,False])\n",
    "\n",
    "result = np.where(cond,x,y)\n",
    "result"
   ]
  },
  {
   "cell_type": "code",
   "execution_count": 117,
   "metadata": {
    "ExecuteTime": {
     "end_time": "2020-03-02T02:12:23.251214Z",
     "start_time": "2020-03-02T02:12:23.246227Z"
    }
   },
   "outputs": [
    {
     "data": {
      "text/plain": [
       "0.23440760810944772"
      ]
     },
     "execution_count": 117,
     "metadata": {},
     "output_type": "execute_result"
    }
   ],
   "source": [
    "arr = np.random.randn(5,4)\n",
    "arr.mean()"
   ]
  },
  {
   "cell_type": "code",
   "execution_count": 118,
   "metadata": {
    "ExecuteTime": {
     "end_time": "2020-03-02T02:12:36.432004Z",
     "start_time": "2020-03-02T02:12:36.427018Z"
    }
   },
   "outputs": [
    {
     "data": {
      "text/plain": [
       "array([ 0.47516289,  1.19710823, -0.29579184, -0.02765328, -0.17678796])"
      ]
     },
     "execution_count": 118,
     "metadata": {},
     "output_type": "execute_result"
    }
   ],
   "source": [
    "arr.mean(axis=1)"
   ]
  },
  {
   "cell_type": "code",
   "execution_count": 119,
   "metadata": {
    "ExecuteTime": {
     "end_time": "2020-03-02T02:12:45.506211Z",
     "start_time": "2020-03-02T02:12:45.501226Z"
    }
   },
   "outputs": [
    {
     "data": {
      "text/plain": [
       "array([ 0.06138907, -0.25627686,  0.85767162,  4.02536833])"
      ]
     },
     "execution_count": 119,
     "metadata": {},
     "output_type": "execute_result"
    }
   ],
   "source": [
    "arr.sum(axis=0)"
   ]
  },
  {
   "cell_type": "code",
   "execution_count": 123,
   "metadata": {
    "ExecuteTime": {
     "end_time": "2020-03-02T02:13:54.899795Z",
     "start_time": "2020-03-02T02:13:54.895772Z"
    }
   },
   "outputs": [
    {
     "data": {
      "text/plain": [
       "array([[0.1808208 , 0.91442298, 1.47713434, 1.90065155],\n",
       "       [1.62603792, 3.37014145, 5.24368646, 6.68908446],\n",
       "       [6.82303594, 6.58696861, 5.95117756, 5.5059171 ],\n",
       "       [5.49502774, 3.81189396, 3.11771853, 5.39530399],\n",
       "       [5.42742378, 4.6126423 , 4.36402405, 4.68815216]])"
      ]
     },
     "execution_count": 123,
     "metadata": {},
     "output_type": "execute_result"
    }
   ],
   "source": [
    "arr.cumsum().reshape(5,4)"
   ]
  },
  {
   "cell_type": "code",
   "execution_count": 124,
   "metadata": {
    "ExecuteTime": {
     "end_time": "2020-03-02T02:14:52.189801Z",
     "start_time": "2020-03-02T02:14:52.185797Z"
    }
   },
   "outputs": [
    {
     "data": {
      "text/plain": [
       "array([[ 1.80820796e-01,  1.32650531e-01,  7.46439599e-02,\n",
       "         3.16130017e-02],\n",
       "       [-8.68136110e-03, -1.51411926e-02, -2.83677058e-02,\n",
       "        -4.10026252e-02],\n",
       "       [-5.49236222e-03,  1.29656727e-03, -8.24345867e-04,\n",
       "         3.67048626e-04],\n",
       "       [-3.99692344e-06,  6.72735685e-06, -4.66996587e-06,\n",
       "        -1.06362464e-05],\n",
       "       [-3.41633964e-07,  2.78357026e-07, -6.92046383e-08,\n",
       "        -2.24311690e-08]])"
      ]
     },
     "execution_count": 124,
     "metadata": {},
     "output_type": "execute_result"
    }
   ],
   "source": [
    "arr.cumprod().reshape(5,4)"
   ]
  },
  {
   "cell_type": "code",
   "execution_count": 125,
   "metadata": {
    "ExecuteTime": {
     "end_time": "2020-03-02T02:15:23.974826Z",
     "start_time": "2020-03-02T02:15:23.969841Z"
    }
   },
   "outputs": [
    {
     "data": {
      "text/plain": [
       "True"
      ]
     },
     "execution_count": 125,
     "metadata": {},
     "output_type": "execute_result"
    }
   ],
   "source": [
    "cond.any()"
   ]
  },
  {
   "cell_type": "code",
   "execution_count": 126,
   "metadata": {
    "ExecuteTime": {
     "end_time": "2020-03-02T02:15:26.982867Z",
     "start_time": "2020-03-02T02:15:26.977880Z"
    }
   },
   "outputs": [
    {
     "data": {
      "text/plain": [
       "False"
      ]
     },
     "execution_count": 126,
     "metadata": {},
     "output_type": "execute_result"
    }
   ],
   "source": [
    "cond.all()"
   ]
  },
  {
   "cell_type": "code",
   "execution_count": 128,
   "metadata": {
    "ExecuteTime": {
     "end_time": "2020-03-02T02:15:45.715273Z",
     "start_time": "2020-03-02T02:15:45.710285Z"
    }
   },
   "outputs": [
    {
     "data": {
      "text/plain": [
       "array([[ 0.1808208 ,  0.42351721,  0.56271135,  0.73360219],\n",
       "       [-0.27461363,  1.445398  ,  1.74410354,  1.87354501],\n",
       "       [-0.63579105, -0.44526047, -0.23606733,  0.13395148],\n",
       "       [-1.68313378, -0.69417543, -0.01088936,  2.27758547],\n",
       "       [-0.81478148, -0.24861826,  0.03211979,  0.32412812]])"
      ]
     },
     "execution_count": 128,
     "metadata": {},
     "output_type": "execute_result"
    }
   ],
   "source": [
    "arr.sort()\n",
    "arr"
   ]
  },
  {
   "cell_type": "code",
   "execution_count": 133,
   "metadata": {
    "ExecuteTime": {
     "end_time": "2020-03-02T02:16:34.881503Z",
     "start_time": "2020-03-02T02:16:34.876515Z"
    }
   },
   "outputs": [
    {
     "data": {
      "text/plain": [
       "array([[ 0.74791214, -1.74421402,  0.00511561, -0.80792376],\n",
       "       [-0.38587125,  0.312574  , -0.12821586,  0.16324225],\n",
       "       [-0.43953328,  1.17129749, -0.53204658, -0.10655045],\n",
       "       [ 0.62868201, -0.39748443,  1.08875518, -1.4070905 ],\n",
       "       [-0.56165232, -0.93125825,  0.83702212,  0.32774456]])"
      ]
     },
     "execution_count": 133,
     "metadata": {},
     "output_type": "execute_result"
    }
   ],
   "source": [
    "arr = np.random.randn(5,4)\n",
    "arr"
   ]
  },
  {
   "cell_type": "code",
   "execution_count": 134,
   "metadata": {
    "ExecuteTime": {
     "end_time": "2020-03-02T02:16:35.131875Z",
     "start_time": "2020-03-02T02:16:35.127885Z"
    }
   },
   "outputs": [
    {
     "data": {
      "text/plain": [
       "array([[-0.56165232, -1.74421402, -0.53204658, -1.4070905 ],\n",
       "       [-0.43953328, -0.93125825, -0.12821586, -0.80792376],\n",
       "       [-0.38587125, -0.39748443,  0.00511561, -0.10655045],\n",
       "       [ 0.62868201,  0.312574  ,  0.83702212,  0.16324225],\n",
       "       [ 0.74791214,  1.17129749,  1.08875518,  0.32774456]])"
      ]
     },
     "execution_count": 134,
     "metadata": {},
     "output_type": "execute_result"
    }
   ],
   "source": [
    "arr.sort(0)\n",
    "arr"
   ]
  },
  {
   "cell_type": "code",
   "execution_count": 135,
   "metadata": {
    "ExecuteTime": {
     "end_time": "2020-03-02T02:17:08.725654Z",
     "start_time": "2020-03-02T02:17:08.718674Z"
    }
   },
   "outputs": [
    {
     "data": {
      "text/plain": [
       "array(['Bob', 'Joe', 'Will'], dtype='<U4')"
      ]
     },
     "execution_count": 135,
     "metadata": {},
     "output_type": "execute_result"
    }
   ],
   "source": [
    "np.unique(names)"
   ]
  },
  {
   "cell_type": "code",
   "execution_count": 136,
   "metadata": {
    "ExecuteTime": {
     "end_time": "2020-03-02T02:17:23.356149Z",
     "start_time": "2020-03-02T02:17:23.352162Z"
    }
   },
   "outputs": [
    {
     "data": {
      "text/plain": [
       "['Bob', 'Joe', 'Will']"
      ]
     },
     "execution_count": 136,
     "metadata": {},
     "output_type": "execute_result"
    }
   ],
   "source": [
    "sorted(set(names))"
   ]
  },
  {
   "cell_type": "markdown",
   "metadata": {},
   "source": [
    "# 파일 입출력, 선형대수, 난수 생성"
   ]
  },
  {
   "cell_type": "code",
   "execution_count": 137,
   "metadata": {
    "ExecuteTime": {
     "end_time": "2020-03-02T02:20:30.135423Z",
     "start_time": "2020-03-02T02:20:30.130414Z"
    }
   },
   "outputs": [],
   "source": [
    "np.save('some_array',arr)"
   ]
  },
  {
   "cell_type": "code",
   "execution_count": 138,
   "metadata": {
    "ExecuteTime": {
     "end_time": "2020-03-02T02:20:42.701817Z",
     "start_time": "2020-03-02T02:20:42.692841Z"
    }
   },
   "outputs": [
    {
     "data": {
      "text/plain": [
       "array([[-0.56165232, -1.74421402, -0.53204658, -1.4070905 ],\n",
       "       [-0.43953328, -0.93125825, -0.12821586, -0.80792376],\n",
       "       [-0.38587125, -0.39748443,  0.00511561, -0.10655045],\n",
       "       [ 0.62868201,  0.312574  ,  0.83702212,  0.16324225],\n",
       "       [ 0.74791214,  1.17129749,  1.08875518,  0.32774456]])"
      ]
     },
     "execution_count": 138,
     "metadata": {},
     "output_type": "execute_result"
    }
   ],
   "source": [
    "np.load('some_array.npy')"
   ]
  },
  {
   "cell_type": "code",
   "execution_count": 140,
   "metadata": {
    "ExecuteTime": {
     "end_time": "2020-03-02T02:21:26.323520Z",
     "start_time": "2020-03-02T02:21:26.318534Z"
    }
   },
   "outputs": [],
   "source": [
    "np.savez('some_array2',a = arr,b = arr2)"
   ]
  },
  {
   "cell_type": "code",
   "execution_count": 143,
   "metadata": {
    "ExecuteTime": {
     "end_time": "2020-03-02T02:21:38.724693Z",
     "start_time": "2020-03-02T02:21:38.718709Z"
    }
   },
   "outputs": [
    {
     "data": {
      "text/plain": [
       "array([[-0.56165232, -1.74421402, -0.53204658, -1.4070905 ],\n",
       "       [-0.43953328, -0.93125825, -0.12821586, -0.80792376],\n",
       "       [-0.38587125, -0.39748443,  0.00511561, -0.10655045],\n",
       "       [ 0.62868201,  0.312574  ,  0.83702212,  0.16324225],\n",
       "       [ 0.74791214,  1.17129749,  1.08875518,  0.32774456]])"
      ]
     },
     "execution_count": 143,
     "metadata": {},
     "output_type": "execute_result"
    }
   ],
   "source": [
    "tk2 = np.load('some_array2.npz')\n",
    "tk2['a']"
   ]
  },
  {
   "cell_type": "code",
   "execution_count": 144,
   "metadata": {
    "ExecuteTime": {
     "end_time": "2020-03-02T02:21:42.006480Z",
     "start_time": "2020-03-02T02:21:42.001493Z"
    }
   },
   "outputs": [
    {
     "data": {
      "text/plain": [
       "array([[ 0,  1,  2,  3],\n",
       "       [ 4,  5,  6,  7],\n",
       "       [ 8,  9, 10, 11],\n",
       "       [12, 13, 14, 15],\n",
       "       [16, 17, 18, 19],\n",
       "       [20, 21, 22, 23],\n",
       "       [24, 25, 26, 27],\n",
       "       [28, 29, 30, 31]])"
      ]
     },
     "execution_count": 144,
     "metadata": {},
     "output_type": "execute_result"
    }
   ],
   "source": [
    "tk2['b']"
   ]
  },
  {
   "cell_type": "code",
   "execution_count": 145,
   "metadata": {
    "ExecuteTime": {
     "end_time": "2020-03-02T02:22:12.847115Z",
     "start_time": "2020-03-02T02:22:12.839166Z"
    }
   },
   "outputs": [],
   "source": [
    "np.savez_compressed('some_array2_compress.npz',a = arr,b = arr2) #압축이 잘 되는 경우에 사용"
   ]
  },
  {
   "cell_type": "code",
   "execution_count": 147,
   "metadata": {
    "ExecuteTime": {
     "end_time": "2020-03-02T02:22:25.451952Z",
     "start_time": "2020-03-02T02:22:25.445968Z"
    }
   },
   "outputs": [
    {
     "data": {
      "text/plain": [
       "array([[-0.56165232, -1.74421402, -0.53204658, -1.4070905 ],\n",
       "       [-0.43953328, -0.93125825, -0.12821586, -0.80792376],\n",
       "       [-0.38587125, -0.39748443,  0.00511561, -0.10655045],\n",
       "       [ 0.62868201,  0.312574  ,  0.83702212,  0.16324225],\n",
       "       [ 0.74791214,  1.17129749,  1.08875518,  0.32774456]])"
      ]
     },
     "execution_count": 147,
     "metadata": {},
     "output_type": "execute_result"
    }
   ],
   "source": [
    "tk22 = np.load('some_array2_compress.npz')\n",
    "tk22['a']"
   ]
  },
  {
   "cell_type": "code",
   "execution_count": 148,
   "metadata": {
    "ExecuteTime": {
     "end_time": "2020-03-02T02:23:24.144863Z",
     "start_time": "2020-03-02T02:23:24.139876Z"
    }
   },
   "outputs": [
    {
     "data": {
      "text/plain": [
       "array([[10, 13],\n",
       "       [28, 40]])"
      ]
     },
     "execution_count": 148,
     "metadata": {},
     "output_type": "execute_result"
    }
   ],
   "source": [
    "x = np.arange(6).reshape(2,3)\n",
    "y = np.arange(6).reshape(3,2)\n",
    "x.dot(y)"
   ]
  },
  {
   "cell_type": "code",
   "execution_count": 149,
   "metadata": {
    "ExecuteTime": {
     "end_time": "2020-03-02T02:23:27.929771Z",
     "start_time": "2020-03-02T02:23:27.924784Z"
    }
   },
   "outputs": [
    {
     "data": {
      "text/plain": [
       "array([[10, 13],\n",
       "       [28, 40]])"
      ]
     },
     "execution_count": 149,
     "metadata": {},
     "output_type": "execute_result"
    }
   ],
   "source": [
    "np.dot(x,y)"
   ]
  },
  {
   "cell_type": "code",
   "execution_count": 174,
   "metadata": {
    "ExecuteTime": {
     "end_time": "2020-03-02T02:27:52.769436Z",
     "start_time": "2020-03-02T02:27:52.766411Z"
    }
   },
   "outputs": [],
   "source": [
    "from numpy.linalg import inv, qr, svd, eig"
   ]
  },
  {
   "cell_type": "code",
   "execution_count": 162,
   "metadata": {
    "ExecuteTime": {
     "end_time": "2020-03-02T02:25:54.085666Z",
     "start_time": "2020-03-02T02:25:54.080679Z"
    }
   },
   "outputs": [
    {
     "name": "stdout",
     "output_type": "stream",
     "text": [
      "[[  1.24655446   0.17317878   0.30571252  -0.28082058  -1.02724483]\n",
      " [  0.17317878  10.96576584  -8.48178012 -13.65266285   3.37640841]\n",
      " [  0.30571252  -8.48178012  16.1507249   12.87736365 -10.72230027]\n",
      " [ -0.28082058 -13.65266285  12.87736365  20.15981369  -6.97423724]\n",
      " [ -1.02724483   3.37640841 -10.72230027  -6.97423724   8.94401874]]\n"
     ]
    }
   ],
   "source": [
    "X = np.random.rand(5,5)\n",
    "\n",
    "mat = X.T.dot(X)\n",
    "\n",
    "print( inv(mat) )"
   ]
  },
  {
   "cell_type": "code",
   "execution_count": 166,
   "metadata": {
    "ExecuteTime": {
     "end_time": "2020-03-02T02:26:11.232817Z",
     "start_time": "2020-03-02T02:26:11.227806Z"
    }
   },
   "outputs": [
    {
     "data": {
      "text/plain": [
       "array([[1, 0, 0, 0, 0],\n",
       "       [0, 1, 0, 0, 0],\n",
       "       [0, 0, 0, 0, 0],\n",
       "       [0, 0, 0, 0, 0],\n",
       "       [0, 0, 0, 0, 0]], dtype=int64)"
      ]
     },
     "execution_count": 166,
     "metadata": {},
     "output_type": "execute_result"
    }
   ],
   "source": [
    "mat.dot( inv(mat) ).astype(np.int64)"
   ]
  },
  {
   "cell_type": "code",
   "execution_count": 168,
   "metadata": {
    "ExecuteTime": {
     "end_time": "2020-03-02T02:26:28.914869Z",
     "start_time": "2020-03-02T02:26:28.909884Z"
    }
   },
   "outputs": [
    {
     "data": {
      "text/plain": [
       "array([[-0.58052113,  0.70371534,  0.38546988,  0.12276745, -0.06419546],\n",
       "       [-0.38814825, -0.59382903,  0.35225003,  0.57280568,  0.2110014 ],\n",
       "       [-0.39434212, -0.10859713, -0.57809257,  0.22253078, -0.67006715],\n",
       "       [-0.21222798, -0.35948215,  0.46935997, -0.64457473, -0.43583999],\n",
       "       [-0.55838135, -0.10550376, -0.41574403, -0.43797862,  0.55893726]])"
      ]
     },
     "execution_count": 168,
     "metadata": {},
     "output_type": "execute_result"
    }
   ],
   "source": [
    "q, r = qr(mat) #QR 분해 계산\n",
    "\n",
    "q"
   ]
  },
  {
   "cell_type": "code",
   "execution_count": 169,
   "metadata": {
    "ExecuteTime": {
     "end_time": "2020-03-02T02:26:32.607128Z",
     "start_time": "2020-03-02T02:26:32.602140Z"
    }
   },
   "outputs": [
    {
     "data": {
      "text/plain": [
       "array([[-3.59410705, -3.72479672, -3.62259057, -1.98492777, -4.95972074],\n",
       "       [ 0.        , -1.09032273, -0.65303547, -0.64582395, -0.88665968],\n",
       "       [ 0.        ,  0.        , -0.58663857,  0.18983883, -0.60172927],\n",
       "       [ 0.        ,  0.        ,  0.        , -0.06698315, -0.10120003],\n",
       "       [ 0.        ,  0.        ,  0.        ,  0.        ,  0.06249285]])"
      ]
     },
     "execution_count": 169,
     "metadata": {},
     "output_type": "execute_result"
    }
   ],
   "source": [
    "r"
   ]
  },
  {
   "cell_type": "code",
   "execution_count": 172,
   "metadata": {
    "ExecuteTime": {
     "end_time": "2020-03-02T02:27:19.330109Z",
     "start_time": "2020-03-02T02:27:19.325122Z"
    }
   },
   "outputs": [
    {
     "data": {
      "text/plain": [
       "(array([[-0.58052113,  0.11090453,  0.78971187, -0.13229387,  0.09771847],\n",
       "        [-0.38814825,  0.81078754, -0.34784786,  0.25826616, -0.06530661],\n",
       "        [-0.39434212, -0.16215668, -0.42791272, -0.5037873 ,  0.61748567],\n",
       "        [-0.21222798, -0.03757127, -0.15936193, -0.60519286, -0.74959527],\n",
       "        [-0.55838135, -0.55010668, -0.2164521 ,  0.54381696, -0.20737532]]),\n",
       " array([1., 1., 1., 1., 1.]),\n",
       " array([[ 1.        ,  0.        ,  0.        ,  0.        ,  0.        ],\n",
       "        [-0.        , -0.31426968,  0.63316097,  0.70710678, -0.01848645],\n",
       "        [-0.        ,  0.88888889,  0.44444444,  0.        ,  0.11111111],\n",
       "        [ 0.        , -0.03157202, -0.1789273 ,  0.17149859,  0.96828532],\n",
       "        [-0.        ,  0.33183478, -0.60791557,  0.68599434, -0.22301593]]))"
      ]
     },
     "execution_count": 172,
     "metadata": {},
     "output_type": "execute_result"
    }
   ],
   "source": [
    "svd(q) #특이값 분해"
   ]
  },
  {
   "cell_type": "code",
   "execution_count": 178,
   "metadata": {
    "ExecuteTime": {
     "end_time": "2020-03-02T02:28:10.509709Z",
     "start_time": "2020-03-02T02:28:10.505732Z"
    }
   },
   "outputs": [
    {
     "data": {
      "text/plain": [
       "array([ 1.        +0.j        , -0.45737669+0.88927305j,\n",
       "       -0.45737669-0.88927305j, -0.96166341+0.27423254j,\n",
       "       -0.96166341-0.27423254j])"
      ]
     },
     "execution_count": 178,
     "metadata": {},
     "output_type": "execute_result"
    }
   ],
   "source": [
    "eig(q)[0] #고유값"
   ]
  },
  {
   "cell_type": "code",
   "execution_count": 179,
   "metadata": {
    "ExecuteTime": {
     "end_time": "2020-03-02T02:28:14.755982Z",
     "start_time": "2020-03-02T02:28:14.750996Z"
    }
   },
   "outputs": [
    {
     "data": {
      "text/plain": [
       "array([[-0.16398777+0.j        ,  0.24087053-0.51728053j,\n",
       "         0.24087053+0.51728053j,  0.20604787+0.34423906j,\n",
       "         0.20604787-0.34423906j],\n",
       "       [-0.0359977 +0.j        ,  0.60181991+0.j        ,\n",
       "         0.60181991-0.j        , -0.15914102-0.33442341j,\n",
       "        -0.15914102+0.33442341j],\n",
       "       [-0.36600883+0.j        ,  0.15812822+0.30781542j,\n",
       "         0.15812822-0.30781542j, -0.32226068+0.45761551j,\n",
       "        -0.32226068-0.45761551j],\n",
       "       [-0.30421888+0.j        ,  0.14033295+0.33866347j,\n",
       "         0.14033295-0.33866347j,  0.56510101+0.j        ,\n",
       "         0.56510101-0.j        ],\n",
       "       [ 0.86330793+0.j        ,  0.18734012+0.15158357j,\n",
       "         0.18734012-0.15158357j,  0.09501218+0.24545569j,\n",
       "         0.09501218-0.24545569j]])"
      ]
     },
     "execution_count": 179,
     "metadata": {},
     "output_type": "execute_result"
    }
   ],
   "source": [
    "eig(q)[1] #고유벡터"
   ]
  },
  {
   "cell_type": "code",
   "execution_count": null,
   "metadata": {},
   "outputs": [],
   "source": []
  },
  {
   "cell_type": "code",
   "execution_count": 181,
   "metadata": {
    "ExecuteTime": {
     "end_time": "2020-03-02T02:29:18.318708Z",
     "start_time": "2020-03-02T02:29:18.313721Z"
    }
   },
   "outputs": [
    {
     "data": {
      "text/plain": [
       "array([[-0.41284933,  0.03244622, -1.90478677, -0.1056288 ],\n",
       "       [ 0.29659698, -0.09027985,  0.2850568 ,  0.61075371],\n",
       "       [-0.42609079, -2.01067044,  1.13474398,  0.16016619],\n",
       "       [ 1.6930957 ,  0.90062077,  0.17093023, -0.94233844]])"
      ]
     },
     "execution_count": 181,
     "metadata": {},
     "output_type": "execute_result"
    }
   ],
   "source": [
    "np.random.normal(size=(4,4))"
   ]
  },
  {
   "cell_type": "code",
   "execution_count": 182,
   "metadata": {
    "ExecuteTime": {
     "end_time": "2020-03-02T02:29:56.345695Z",
     "start_time": "2020-03-02T02:29:56.250910Z"
    }
   },
   "outputs": [],
   "source": [
    "from random import normalvariate\n",
    "\n",
    "N=100000\n",
    "samples = [normalvariate(0,1) for _ in range(N)]"
   ]
  },
  {
   "cell_type": "code",
   "execution_count": 183,
   "metadata": {
    "ExecuteTime": {
     "end_time": "2020-03-02T02:30:07.275394Z",
     "start_time": "2020-03-02T02:30:07.268408Z"
    }
   },
   "outputs": [
    {
     "data": {
      "text/plain": [
       "array([ 2.04077525, -0.5892655 , -0.48432275, ..., -1.42731657,\n",
       "       -1.1021758 ,  0.12941237])"
      ]
     },
     "execution_count": 183,
     "metadata": {},
     "output_type": "execute_result"
    }
   ],
   "source": [
    "np.random.normal(size=N)"
   ]
  },
  {
   "cell_type": "markdown",
   "metadata": {},
   "source": [
    "# 계단 오르내리기 예제"
   ]
  },
  {
   "cell_type": "code",
   "execution_count": 185,
   "metadata": {
    "ExecuteTime": {
     "end_time": "2020-03-02T02:35:01.649188Z",
     "start_time": "2020-03-02T02:35:01.644200Z"
    }
   },
   "outputs": [],
   "source": [
    "import random\n",
    "\n",
    "position = 0\n",
    "walk = [position]\n",
    "steps = 1000\n",
    "for i in range(steps):\n",
    "    step = 1 if random.randint(0,1) else -1 #0 혹은 1의 값이 나오게 됨\n",
    "    position += step\n",
    "    walk.append(position)"
   ]
  },
  {
   "cell_type": "code",
   "execution_count": 186,
   "metadata": {
    "ExecuteTime": {
     "end_time": "2020-03-02T02:35:09.643764Z",
     "start_time": "2020-03-02T02:35:09.523086Z"
    }
   },
   "outputs": [
    {
     "data": {
      "text/plain": [
       "[<matplotlib.lines.Line2D at 0x20b69e8e248>]"
      ]
     },
     "execution_count": 186,
     "metadata": {},
     "output_type": "execute_result"
    },
    {
     "data": {
      "image/png": "[encoded data removed]",
      "text/plain": [
       "<Figure size 432x288 with 1 Axes>"
      ]
     },
     "metadata": {
      "needs_background": "light"
     },
     "output_type": "display_data"
    }
   ],
   "source": [
    "plt.plot(walk[:100])"
   ]
  },
  {
   "cell_type": "code",
   "execution_count": 187,
   "metadata": {
    "ExecuteTime": {
     "end_time": "2020-03-02T02:35:15.007865Z",
     "start_time": "2020-03-02T02:35:14.892143Z"
    }
   },
   "outputs": [
    {
     "data": {
      "text/plain": [
       "[<matplotlib.lines.Line2D at 0x20b69ea3108>]"
      ]
     },
     "execution_count": 187,
     "metadata": {},
     "output_type": "execute_result"
    },
    {
     "data": {
      "image/png": "[encoded data removed]",
      "text/plain": [
       "<Figure size 432x288 with 1 Axes>"
      ]
     },
     "metadata": {
      "needs_background": "light"
     },
     "output_type": "display_data"
    }
   ],
   "source": [
    "plt.plot(walk[:])"
   ]
  },
  {
   "cell_type": "code",
   "execution_count": 198,
   "metadata": {
    "ExecuteTime": {
     "end_time": "2020-03-02T02:37:13.203470Z",
     "start_time": "2020-03-02T02:37:13.199507Z"
    }
   },
   "outputs": [],
   "source": [
    "nsteps = 1000\n",
    "draws = np.random.randint(0,2,size=nsteps)\n",
    "\n",
    "steps = np.where(draws>0,1,-1)\n",
    "\n",
    "walk = steps.cumsum()"
   ]
  },
  {
   "cell_type": "code",
   "execution_count": 199,
   "metadata": {
    "ExecuteTime": {
     "end_time": "2020-03-02T02:37:16.815329Z",
     "start_time": "2020-03-02T02:37:16.810342Z"
    }
   },
   "outputs": [
    {
     "data": {
      "text/plain": [
       "-31"
      ]
     },
     "execution_count": 199,
     "metadata": {},
     "output_type": "execute_result"
    }
   ],
   "source": [
    "walk.min()"
   ]
  },
  {
   "cell_type": "code",
   "execution_count": 200,
   "metadata": {
    "ExecuteTime": {
     "end_time": "2020-03-02T02:37:20.929740Z",
     "start_time": "2020-03-02T02:37:20.925751Z"
    }
   },
   "outputs": [
    {
     "data": {
      "text/plain": [
       "13"
      ]
     },
     "execution_count": 200,
     "metadata": {},
     "output_type": "execute_result"
    }
   ],
   "source": [
    "walk.max()"
   ]
  },
  {
   "cell_type": "code",
   "execution_count": 201,
   "metadata": {
    "ExecuteTime": {
     "end_time": "2020-03-02T02:38:16.987243Z",
     "start_time": "2020-03-02T02:38:16.982232Z"
    }
   },
   "outputs": [
    {
     "data": {
      "text/plain": [
       "57"
      ]
     },
     "execution_count": 201,
     "metadata": {},
     "output_type": "execute_result"
    }
   ],
   "source": [
    "#계단의 처음 위치에서 최초로 10칸 멀어지기 까지 걸린 시간\n",
    "\n",
    "( np.abs(walk) >= 10 ).argmax() #값이 True 혹은 False로 나오는데 argmax를 통해서 처음 색인을 반환하게 됨\n",
    "#최적의 방법은 아님"
   ]
  },
  {
   "cell_type": "code",
   "execution_count": 202,
   "metadata": {
    "ExecuteTime": {
     "end_time": "2020-03-02T02:40:45.483749Z",
     "start_time": "2020-03-02T02:40:45.428861Z"
    }
   },
   "outputs": [
    {
     "data": {
      "text/plain": [
       "array([[  1,   2,   1, ..., -10, -11, -12],\n",
       "       [ -1,   0,   1, ..., -20, -21, -22],\n",
       "       [ -1,   0,  -1, ...,   4,   5,   6],\n",
       "       ...,\n",
       "       [  1,   2,   1, ...,  22,  23,  24],\n",
       "       [  1,   0,   1, ...,  36,  35,  36],\n",
       "       [ -1,  -2,  -1, ..., -48, -49, -50]], dtype=int32)"
      ]
     },
     "execution_count": 202,
     "metadata": {},
     "output_type": "execute_result"
    }
   ],
   "source": [
    "#시물레이션 5000번 각 시행은 1000번의 오르 내리기\n",
    "nwalks = 5000\n",
    "nsteps = 1000\n",
    "draws = np.random.randint(0, 2, size = (nwalks, nsteps))\n",
    "steps = np.where(draws>0, 1, -1)\n",
    "\n",
    "walks = steps.cumsum(1)\n",
    "\n",
    "walks"
   ]
  },
  {
   "cell_type": "code",
   "execution_count": 203,
   "metadata": {
    "ExecuteTime": {
     "end_time": "2020-03-02T02:40:52.361336Z",
     "start_time": "2020-03-02T02:40:52.354342Z"
    }
   },
   "outputs": [
    {
     "data": {
      "text/plain": [
       "121"
      ]
     },
     "execution_count": 203,
     "metadata": {},
     "output_type": "execute_result"
    }
   ],
   "source": [
    "walks.max()"
   ]
  },
  {
   "cell_type": "code",
   "execution_count": 204,
   "metadata": {
    "ExecuteTime": {
     "end_time": "2020-03-02T02:40:56.079663Z",
     "start_time": "2020-03-02T02:40:56.072650Z"
    }
   },
   "outputs": [
    {
     "data": {
      "text/plain": [
       "-126"
      ]
     },
     "execution_count": 204,
     "metadata": {},
     "output_type": "execute_result"
    }
   ],
   "source": [
    "walks.min()"
   ]
  },
  {
   "cell_type": "code",
   "execution_count": 206,
   "metadata": {
    "ExecuteTime": {
     "end_time": "2020-03-02T02:41:22.007991Z",
     "start_time": "2020-03-02T02:41:21.985053Z"
    }
   },
   "outputs": [
    {
     "data": {
      "text/plain": [
       "array([False,  True,  True, ...,  True,  True,  True])"
      ]
     },
     "execution_count": 206,
     "metadata": {},
     "output_type": "execute_result"
    }
   ],
   "source": [
    "hits30 = (np.abs(walks) >= 30).any(1) # 5000번 중 멀어진 경우가 30 이상인 경우만 반환\n",
    "hits30"
   ]
  },
  {
   "cell_type": "code",
   "execution_count": 207,
   "metadata": {
    "ExecuteTime": {
     "end_time": "2020-03-02T02:42:21.378269Z",
     "start_time": "2020-03-02T02:42:21.374280Z"
    }
   },
   "outputs": [
    {
     "data": {
      "text/plain": [
       "3449"
      ]
     },
     "execution_count": 207,
     "metadata": {},
     "output_type": "execute_result"
    }
   ],
   "source": [
    "hits30.sum()"
   ]
  },
  {
   "cell_type": "code",
   "execution_count": 209,
   "metadata": {
    "ExecuteTime": {
     "end_time": "2020-03-02T02:42:51.316416Z",
     "start_time": "2020-03-02T02:42:51.295439Z"
    }
   },
   "outputs": [
    {
     "data": {
      "text/plain": [
       "array([  0, 783, 335, ..., 943, 327, 839], dtype=int64)"
      ]
     },
     "execution_count": 209,
     "metadata": {},
     "output_type": "execute_result"
    }
   ],
   "source": [
    "(np.abs(walks) >= 30).argmax(1) #최초 반환 시간대"
   ]
  },
  {
   "cell_type": "code",
   "execution_count": 211,
   "metadata": {
    "ExecuteTime": {
     "end_time": "2020-03-02T02:43:05.881097Z",
     "start_time": "2020-03-02T02:43:05.860152Z"
    }
   },
   "outputs": [
    {
     "data": {
      "text/plain": [
       "346.791"
      ]
     },
     "execution_count": 211,
     "metadata": {},
     "output_type": "execute_result"
    }
   ],
   "source": [
    "(np.abs(walks) >= 30).argmax(1).mean() #최초 평균 반환 시간대"
   ]
  },
  {
   "cell_type": "code",
   "execution_count": 214,
   "metadata": {
    "ExecuteTime": {
     "end_time": "2020-03-02T02:44:02.370989Z",
     "start_time": "2020-03-02T02:44:02.217400Z"
    }
   },
   "outputs": [
    {
     "data": {
      "text/plain": [
       "5000000"
      ]
     },
     "execution_count": 214,
     "metadata": {},
     "output_type": "execute_result"
    }
   ],
   "source": [
    "# cf) 다른 경우\n",
    "steps = np.random.normal(loc = 0, scale = 0.25, size = (nwalks,nsteps))\n",
    "\n",
    "steps.size"
   ]
  },
  {
   "cell_type": "code",
   "execution_count": null,
   "metadata": {},
   "outputs": [],
   "source": []
  }
 ],
 "metadata": {
  "hide_input": false,
  "kernelspec": {
   "display_name": "Python 3",
   "language": "python",
   "name": "python3"
  },
  "language_info": {
   "codemirror_mode": {
    "name": "ipython",
    "version": 3
   },
   "file_extension": ".py",
   "mimetype": "text/x-python",
   "name": "python",
   "nbconvert_exporter": "python",
   "pygments_lexer": "ipython3",
   "version": "3.7.4"
  },
  "toc": {
   "base_numbering": 1,
   "nav_menu": {},
   "number_sections": true,
   "sideBar": true,
   "skip_h1_title": false,
   "title_cell": "Table of Contents",
   "title_sidebar": "Contents",
   "toc_cell": false,
   "toc_position": {},
   "toc_section_display": true,
   "toc_window_display": false
  }
 },
 "nbformat": 4,
 "nbformat_minor": 2
}
